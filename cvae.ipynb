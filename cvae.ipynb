{
 "cells": [
  {
   "cell_type": "code",
   "execution_count": 1,
   "metadata": {},
   "outputs": [],
   "source": [
    "import torch\n",
    "\n",
    "import torch.nn as nn\n",
    "import torch.nn.functional as F\n",
    "import torch.optim as optim\n",
    "\n",
    "from torch.utils.data import DataLoader\n",
    "\n",
    "from torchvision import datasets, transforms\n",
    "\n",
    "import matplotlib.pyplot as plt"
   ]
  },
  {
   "cell_type": "code",
   "execution_count": 2,
   "metadata": {},
   "outputs": [],
   "source": [
    "device = torch.device('cuda' if torch.cuda.is_available() else 'cpu')"
   ]
  },
  {
   "cell_type": "code",
   "execution_count": 3,
   "metadata": {},
   "outputs": [],
   "source": [
    "BATCH_SIZE = 64\n",
    "N_EPOCHS = 10\n",
    "INPUT_DIM = 28*28\n",
    "LATENT_DIM = 2\n",
    "N_CLASSES = 10"
   ]
  },
  {
   "cell_type": "code",
   "execution_count": 4,
   "metadata": {},
   "outputs": [],
   "source": [
    "def idx2onehot(idx, n=N_CLASSES):\n",
    "\n",
    "    assert idx.shape[1] == 1\n",
    "    assert torch.max(idx).item() < n\n",
    "    \n",
    "    onehot = torch.zeros(idx.size(0), n)\n",
    "    onehot.scatter_(1, idx.data, 1)\n",
    "    \n",
    "    return onehot"
   ]
  },
  {
   "cell_type": "code",
   "execution_count": 5,
   "metadata": {},
   "outputs": [],
   "source": [
    "transforms = transforms.Compose([transforms.ToTensor()])"
   ]
  },
  {
   "cell_type": "code",
   "execution_count": 6,
   "metadata": {},
   "outputs": [],
   "source": [
    "train_dataset = datasets.MNIST('./data', \n",
    "                               train=True, \n",
    "                               download=True, \n",
    "                               transform=transforms,\n",
    "                               )"
   ]
  },
  {
   "cell_type": "code",
   "execution_count": 7,
   "metadata": {},
   "outputs": [],
   "source": [
    "test_dataset = datasets.MNIST('./data',\n",
    "                              train=False,\n",
    "                              download=True,\n",
    "                              transform=transforms,\n",
    "                              )"
   ]
  },
  {
   "cell_type": "code",
   "execution_count": 8,
   "metadata": {},
   "outputs": [],
   "source": [
    "train_iterator = DataLoader(train_dataset,\n",
    "                            batch_size=BATCH_SIZE,\n",
    "                            shuffle=True\n",
    "                            )"
   ]
  },
  {
   "cell_type": "code",
   "execution_count": 9,
   "metadata": {},
   "outputs": [],
   "source": [
    "test_iterator = DataLoader(test_dataset,\n",
    "                           batch_size=BATCH_SIZE,\n",
    "                           )"
   ]
  },
  {
   "cell_type": "code",
   "execution_count": 10,
   "metadata": {},
   "outputs": [],
   "source": [
    "class CVAE(nn.Module):\n",
    "    \n",
    "    def __init__(self, input_dim, latent_dim, n_classes):\n",
    "        \n",
    "        super().__init__()\n",
    "        \n",
    "        self.encoder = Encoder(input_dim, latent_dim, n_classes)\n",
    "        self.decoder = Decoder(latent_dim, input_dim, n_classes)\n",
    "        \n",
    "    def forward(self, x, y):\n",
    "        \n",
    "        x = torch.cat((x, y), dim=1)\n",
    "        \n",
    "        #encode\n",
    "        mean, log_var = self.encoder(x)\n",
    "        \n",
    "        #reparameterize\n",
    "        std = torch.exp(0.5 * log_var)\n",
    "        eps = torch.randn_like(std)\n",
    "        z = eps.mul(std).add_(mean)\n",
    "        \n",
    "        z = torch.cat((z, y), dim=1)\n",
    "        \n",
    "        #decode\n",
    "        x = self.decoder(z)\n",
    "        \n",
    "        return x, mean, log_var\n",
    "    \n",
    "class Encoder(nn.Module):\n",
    "    \n",
    "    def __init__(self, input_dim, latent_dim, n_classes):\n",
    "        \n",
    "        super().__init__()\n",
    "        \n",
    "        self.enc_1 = nn.Linear(input_dim+n_classes, 256)\n",
    "        self.enc_21 = nn.Linear(256, latent_dim)\n",
    "        self.enc_22 = nn.Linear(256, latent_dim)\n",
    "        \n",
    "    def forward(self, x):\n",
    "        \n",
    "        x = F.relu(self.enc_1(x))\n",
    "        mean = self.enc_21(x)\n",
    "        log_var = self.enc_22(x)\n",
    "        \n",
    "        return mean, log_var\n",
    "    \n",
    "class Decoder(nn.Module):\n",
    "    \n",
    "    def __init__(self, latent_dim, output_dim, n_classes):\n",
    "        \n",
    "        super().__init__()\n",
    "        \n",
    "        self.dec_1 = nn.Linear(latent_dim+n_classes, 256)\n",
    "        self.dec_2 = nn.Linear(256, output_dim)\n",
    "        \n",
    "    def forward(self, x):\n",
    "    \n",
    "        x = F.relu(self.dec_1(x))\n",
    "        x = F.sigmoid(self.dec_2(x))    \n",
    "            \n",
    "        return x"
   ]
  },
  {
   "cell_type": "code",
   "execution_count": 11,
   "metadata": {},
   "outputs": [],
   "source": [
    "def reconstruction_loss(x, reconstructed_x, mean, log_var):\n",
    "    \n",
    "    BCE = F.binary_cross_entropy(reconstructed_x, x, size_average=False)\n",
    "\n",
    "    KLD = -0.5 * torch.sum(1 + log_var - mean.pow(2) - log_var.exp())\n",
    "    \n",
    "    return BCE + KLD"
   ]
  },
  {
   "cell_type": "code",
   "execution_count": 12,
   "metadata": {},
   "outputs": [],
   "source": [
    "model = CVAE(INPUT_DIM, LATENT_DIM, N_CLASSES).to(device)"
   ]
  },
  {
   "cell_type": "code",
   "execution_count": 13,
   "metadata": {},
   "outputs": [],
   "source": [
    "optimizer = optim.Adam(model.parameters(), lr=0.001)"
   ]
  },
  {
   "cell_type": "code",
   "execution_count": 14,
   "metadata": {},
   "outputs": [],
   "source": [
    "def train():\n",
    "    \n",
    "    model.train()\n",
    "    train_loss = 0\n",
    "    \n",
    "    for i, (x, y) in enumerate(train_iterator):\n",
    "        x = x.view(-1, 28*28)\n",
    "        y = idx2onehot(y.view(-1, 1))\n",
    "        x = x.to(device)\n",
    "        y = y.to(device, dtype=x.dtype)\n",
    "        optimizer.zero_grad()\n",
    "        reconstructed_x, mean, log_var = model(x, y)\n",
    "        loss = reconstruction_loss(x, reconstructed_x, mean, log_var)\n",
    "        loss.backward()\n",
    "        train_loss += loss.item()\n",
    "        optimizer.step()\n",
    "        \n",
    "    return train_loss"
   ]
  },
  {
   "cell_type": "code",
   "execution_count": 15,
   "metadata": {},
   "outputs": [],
   "source": [
    "def test():\n",
    "    \n",
    "    model.eval()\n",
    "    test_loss = 0\n",
    "    \n",
    "    with torch.no_grad():\n",
    "        \n",
    "        for i, (x, y) in enumerate(test_iterator):\n",
    "            x = x.view(-1, 28*28)\n",
    "            y = idx2onehot(y.view(-1, 1))\n",
    "            x = x.to(device)\n",
    "            y = y.to(device, dtype=x.dtype)\n",
    "            reconstructed_x, mean, log_var = model(x, y)\n",
    "            loss = reconstruction_loss(x, reconstructed_x, mean, log_var)\n",
    "            test_loss += loss.item()\n",
    "        \n",
    "    return test_loss"
   ]
  },
  {
   "cell_type": "code",
   "execution_count": 16,
   "metadata": {},
   "outputs": [
    {
     "name": "stdout",
     "output_type": "stream",
     "text": [
      "Epoch 0, Train Loss: 170.15, Test Loss: 148.57\n",
      "Epoch 1, Train Loss: 144.50, Test Loss: 141.71\n",
      "Epoch 2, Train Loss: 139.99, Test Loss: 138.86\n",
      "Epoch 3, Train Loss: 137.86, Test Loss: 137.16\n",
      "Epoch 4, Train Loss: 136.54, Test Loss: 136.22\n",
      "Epoch 5, Train Loss: 135.66, Test Loss: 135.69\n",
      "Epoch 6, Train Loss: 134.99, Test Loss: 134.86\n",
      "Epoch 7, Train Loss: 134.45, Test Loss: 134.81\n",
      "Epoch 8, Train Loss: 134.03, Test Loss: 134.23\n",
      "Epoch 9, Train Loss: 133.62, Test Loss: 133.98\n"
     ]
    }
   ],
   "source": [
    "for e in range(N_EPOCHS):\n",
    "    \n",
    "    train_loss = train()\n",
    "    test_loss = test()\n",
    "    \n",
    "    train_loss /= len(train_dataset)\n",
    "    test_loss /= len(test_dataset)\n",
    "    \n",
    "    print(f'Epoch {e}, Train Loss: {train_loss:.2f}, Test Loss: {test_loss:.2f}')"
   ]
  },
  {
   "cell_type": "code",
   "execution_count": 18,
   "metadata": {},
   "outputs": [
    {
     "name": "stdout",
     "output_type": "stream",
     "text": [
      "tensor([[ 1.1766,  0.1382]], device='cuda:0')\n",
      "Generating a 0\n"
     ]
    },
    {
     "data": {
      "text/plain": [
       "<matplotlib.image.AxesImage at 0x7fcd12c5bcf8>"
      ]
     },
     "execution_count": 18,
     "metadata": {},
     "output_type": "execute_result"
    },
    {
     "data": {
      "image/png": "[encoded data removed]",
      "text/plain": [
       "<Figure size 432x288 with 1 Axes>"
      ]
     },
     "metadata": {},
     "output_type": "display_data"
    }
   ],
   "source": [
    "z = torch.randn(1, LATENT_DIM).to(device)\n",
    "print(z)\n",
    "y = torch.randint(0, N_CLASSES, (1,1)).to(dtype=torch.long)\n",
    "print(f'Generating a {y.item()}')\n",
    "y = idx2onehot(y).to(device, dtype=z.dtype)\n",
    "z = torch.cat((z, y), dim=1)\n",
    "\n",
    "reconstructed_img = model.decoder(z)\n",
    "img = reconstructed_img.view(28,28).data\n",
    "\n",
    "plt.imshow(img, cmap='gray')"
   ]
  },
  {
   "cell_type": "code",
   "execution_count": 129,
   "metadata": {},
   "outputs": [
    {
     "name": "stdout",
     "output_type": "stream",
     "text": [
      "Generating number 4\n"
     ]
    },
    {
     "data": {
      "text/plain": [
       "<matplotlib.image.AxesImage at 0x7fcce90e7748>"
      ]
     },
     "execution_count": 129,
     "metadata": {},
     "output_type": "execute_result"
    },
    {
     "data": {
      "image/png": "[encoded data removed]",
      "text/plain": [
       "<Figure size 432x288 with 1 Axes>"
      ]
     },
     "metadata": {},
     "output_type": "display_data"
    }
   ],
   "source": [
    "columns = 10\n",
    "rows = 1\n",
    "y = torch.randint(0, N_CLASSES, (1,1)).to(dtype=torch.long)\n",
    "print(f'Generating number {y.item()}')\n",
    "y = idx2onehot(y).to(device)\n",
    "z = torch.cat((start, y), dim=1)\n",
    "start = torch.randn(1, LATENT_DIM).to(device)\n",
    "z = torch.cat((start, y), dim=1)\n",
    "reconstructed_img = model.decoder(z)\n",
    "img = reconstructed_img.view(28,28).data\n",
    "plt.imshow(img, cmap='gray')"
   ]
  },
  {
   "cell_type": "code",
   "execution_count": 130,
   "metadata": {},
   "outputs": [
    {
     "data": {
      "text/plain": [
       "<matplotlib.image.AxesImage at 0x7fccebe8b0b8>"
      ]
     },
     "execution_count": 130,
     "metadata": {},
     "output_type": "execute_result"
    },
    {
     "data": {
      "image/png": "[encoded data removed]",
      "text/plain": [
       "<Figure size 432x288 with 1 Axes>"
      ]
     },
     "metadata": {},
     "output_type": "display_data"
    }
   ],
   "source": [
    "end = torch.randn(1, LATENT_DIM).to(device)\n",
    "\n",
    "z = torch.cat((end, y), dim=1)\n",
    "reconstructed_img = model.decoder(z)\n",
    "img = reconstructed_img.view(28,28).data\n",
    "plt.imshow(img, cmap='gray')"
   ]
  },
  {
   "cell_type": "code",
   "execution_count": 131,
   "metadata": {},
   "outputs": [
    {
     "data": {
      "image/png": "[encoded data removed]",
      "text/plain": [
       "<Figure size 1440x1440 with 10 Axes>"
      ]
     },
     "metadata": {},
     "output_type": "display_data"
    }
   ],
   "source": [
    "fig=plt.figure(figsize=(20, 20))\n",
    "\n",
    "N_FIGURES = 10\n",
    "\n",
    "for i in range(1, N_FIGURES+1):\n",
    "    z = start*(1-((i-1)/(N_FIGURES-1))) + end*((i-1)/(N_FIGURES-1))\n",
    "    z = torch.cat((z, y), dim=1)\n",
    "    reconstructed_img = model.decoder(z)\n",
    "    img = reconstructed_img.view(28,28).data\n",
    "    fig.add_subplot(1, N_FIGURES, i)\n",
    "    plt.imshow(img, cmap='gray')\n",
    "plt.show()"
   ]
  },
  {
   "cell_type": "code",
   "execution_count": null,
   "metadata": {},
   "outputs": [],
   "source": []
  },
  {
   "cell_type": "code",
   "execution_count": null,
   "metadata": {},
   "outputs": [],
   "source": []
  },
  {
   "cell_type": "code",
   "execution_count": null,
   "metadata": {},
   "outputs": [],
   "source": []
  },
  {
   "cell_type": "code",
   "execution_count": null,
   "metadata": {},
   "outputs": [],
   "source": []
  },
  {
   "cell_type": "code",
   "execution_count": null,
   "metadata": {},
   "outputs": [],
   "source": []
  }
 ],
 "metadata": {
  "kernelspec": {
   "display_name": "Python 3",
   "language": "python",
   "name": "python3"
  },
  "language_info": {
   "codemirror_mode": {
    "name": "ipython",
    "version": 3
   },
   "file_extension": ".py",
   "mimetype": "text/x-python",
   "name": "python",
   "nbconvert_exporter": "python",
   "pygments_lexer": "ipython3",
   "version": "3.6.5"
  }
 },
 "nbformat": 4,
 "nbformat_minor": 2
}
